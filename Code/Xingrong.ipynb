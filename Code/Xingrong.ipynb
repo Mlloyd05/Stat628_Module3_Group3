{
 "cells": [
  {
   "cell_type": "code",
   "execution_count": null,
   "id": "1731345f-c5c7-48cc-a62a-63177667242f",
   "metadata": {},
   "outputs": [],
   "source": [
    "import numpy as np\n",
    "import pandas as pd\n",
    "import matplotlib.pyplot as plt\n",
    "import os\n",
    "import json"
   ]
  },
  {
   "cell_type": "code",
   "execution_count": null,
   "id": "8ca7766f-22d6-44b5-b33d-5de7f3b25703",
   "metadata": {},
   "outputs": [],
   "source": [
    "# !ls -lh yelp_dataset_2022/"
   ]
  },
  {
   "cell_type": "markdown",
   "id": "71a58dd3-0617-4639-b331-fa4af9cdff5f",
   "metadata": {},
   "source": [
    "### Loading JSON files as pandas dataframe"
   ]
  },
  {
   "cell_type": "code",
   "execution_count": null,
   "id": "65f705e5-c699-41cb-b575-bf63bc476a1a",
   "metadata": {},
   "outputs": [],
   "source": [
    "data_path = os.path.join(os.getcwd(), \"yelp_dataset_2022\")"
   ]
  },
  {
   "cell_type": "code",
   "execution_count": null,
   "id": "550a75da-768e-4d57-b3b9-bf690b2e30e1",
   "metadata": {},
   "outputs": [],
   "source": [
    "tables = {}\n",
    "for data in os.listdir(data_path):\n",
    "    if not data.endswith(\".json\"):\n",
    "        continue\n",
    "    tables[data] = pd.read_json(os.path.join(data_path, data), lines=True)\n",
    "    print(data + \" Done!\")"
   ]
  },
  {
   "cell_type": "code",
   "execution_count": null,
   "id": "ffaf26b1-7bfa-4467-97cf-cb7f8942b8b7",
   "metadata": {},
   "outputs": [],
   "source": [
    "bussiness = tables[\"business.json\"]"
   ]
  },
  {
   "cell_type": "code",
   "execution_count": null,
   "id": "8b503c52-05fb-49bc-8247-0669b24ab1ef",
   "metadata": {},
   "outputs": [],
   "source": [
    "coffees = bussiness.loc[bussiness.categories.str.contains(\"coffee\", case=False).fillna(False)]"
   ]
  },
  {
   "cell_type": "code",
   "execution_count": null,
   "id": "465cc03a-0f4c-4aab-976e-d69b091f58d0",
   "metadata": {},
   "outputs": [],
   "source": [
    "coffees.set_index(\"business_id\", inplace=True)"
   ]
  },
  {
   "cell_type": "code",
   "execution_count": null,
   "id": "fce2cc7a-2fd3-4bf4-9dd9-ff03f78a691a",
   "metadata": {},
   "outputs": [],
   "source": [
    "coffee_join_review = coffees.join(tables[\"review.json\"].set_index(\"business_id\"), on=\"business_id\", lsuffix=\"_business\", rsuffix=\"_review\")"
   ]
  },
  {
   "cell_type": "code",
   "execution_count": null,
   "id": "8a64690d-507a-4e9f-a53c-47cef57c7614",
   "metadata": {},
   "outputs": [],
   "source": [
    "final_table = coffee_join_review.set_index(\"user_id\").join(tables[\"user.json\"].set_index(\"user_id\"), lsuffix=\"_business_or_review\", rsuffix=\"_users\")"
   ]
  },
  {
   "cell_type": "code",
   "execution_count": null,
   "id": "a628ecc0-4930-4d57-9cf4-890c90084c16",
   "metadata": {},
   "outputs": [],
   "source": [
    "final_table.shape"
   ]
  },
  {
   "cell_type": "code",
   "execution_count": null,
   "id": "2f765bd2-2bde-4b0f-8bee-9ef03eeeedfc",
   "metadata": {},
   "outputs": [],
   "source": [
    "final_table.reset_index(inplace=True)"
   ]
  },
  {
   "cell_type": "code",
   "execution_count": null,
   "id": "155d2c4b-16f2-445d-beeb-f60e72e619ec",
   "metadata": {},
   "outputs": [],
   "source": [
    "final_table.to_csv(\"data.csv\", index=False)"
   ]
  },
  {
   "cell_type": "code",
   "execution_count": null,
   "id": "54a1f7e4-84df-4b23-9251-3508c335e494",
   "metadata": {},
   "outputs": [],
   "source": [
    "df = pd.read_csv(\"data.csv\")"
   ]
  },
  {
   "cell_type": "code",
   "execution_count": null,
   "id": "4dee1f3b-dac5-4bea-acce-aad671249950",
   "metadata": {},
   "outputs": [],
   "source": [
    "# !ls -lh data.csv"
   ]
  },
  {
   "cell_type": "markdown",
   "id": "2cc21795-961a-48a1-aa89-e61f67215965",
   "metadata": {},
   "source": [
    "### loading json files as python dict"
   ]
  },
  {
   "cell_type": "code",
   "execution_count": null,
   "id": "7b8436cb-9344-4b91-9949-a69a34b436a1",
   "metadata": {
    "tags": []
   },
   "outputs": [],
   "source": [
    "row_jsons = {}\n",
    "for data in os.listdir(data_path):\n",
    "    if not data.endswith(\".json\"):\n",
    "        continue\n",
    "    row_jsons[data] = []\n",
    "    with open(os.path.join(data_path, data), \"r\") as f:\n",
    "        for line in f:\n",
    "            data.append(json.loads(line))\n",
    "    print(data + \" Done!\")"
   ]
  },
  {
   "cell_type": "code",
   "execution_count": null,
   "id": "1e362e0b-9691-4917-b93c-eee28cba1dac",
   "metadata": {},
   "outputs": [],
   "source": []
  }
 ],
 "metadata": {
  "kernelspec": {
   "display_name": "Python [conda env:py3]",
   "language": "python",
   "name": "conda-env-py3-py"
  },
  "language_info": {
   "codemirror_mode": {
    "name": "ipython",
    "version": 3
   },
   "file_extension": ".py",
   "mimetype": "text/x-python",
   "name": "python",
   "nbconvert_exporter": "python",
   "pygments_lexer": "ipython3",
   "version": "3.8.13"
  }
 },
 "nbformat": 4,
 "nbformat_minor": 5
}
