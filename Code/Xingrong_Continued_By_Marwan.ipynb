{
 "cells": [
  {
   "cell_type": "code",
   "execution_count": 1,
   "id": "1731345f-c5c7-48cc-a62a-63177667242f",
   "metadata": {},
   "outputs": [],
   "source": [
    "import numpy as np\n",
    "import pandas as pd\n",
    "import matplotlib.pyplot as plt\n",
    "import os\n",
    "import json"
   ]
  },
  {
   "cell_type": "code",
   "execution_count": null,
   "id": "8ca7766f-22d6-44b5-b33d-5de7f3b25703",
   "metadata": {},
   "outputs": [],
   "source": [
    "# !ls -lh yelp_dataset_2022/"
   ]
  },
  {
   "cell_type": "markdown",
   "id": "71a58dd3-0617-4639-b331-fa4af9cdff5f",
   "metadata": {},
   "source": [
    "### Loading JSON files as pandas dataframe"
   ]
  },
  {
   "cell_type": "code",
   "execution_count": 2,
   "id": "65f705e5-c699-41cb-b575-bf63bc476a1a",
   "metadata": {},
   "outputs": [],
   "source": [
    "data_path = os.path.join(os.getcwd(), \"yelp_dataset_2022\")"
   ]
  },
  {
   "cell_type": "code",
   "execution_count": 3,
   "id": "550a75da-768e-4d57-b3b9-bf690b2e30e1",
   "metadata": {},
   "outputs": [
    {
     "name": "stdout",
     "output_type": "stream",
     "text": [
      "business.json Done!\n",
      "user.json Done!\n",
      "tip.json Done!\n",
      "review.json Done!\n"
     ]
    }
   ],
   "source": [
    "tables = {}\n",
    "for data in os.listdir(data_path):\n",
    "    if not data.endswith(\".json\"):\n",
    "        continue\n",
    "    tables[data] = pd.read_json(os.path.join(data_path, data), lines=True)\n",
    "    print(data + \" Done!\")"
   ]
  },
  {
   "cell_type": "code",
   "execution_count": 5,
   "id": "ffaf26b1-7bfa-4467-97cf-cb7f8942b8b7",
   "metadata": {},
   "outputs": [],
   "source": [
    "business = tables[\"business.json\"]"
   ]
  },
  {
   "cell_type": "code",
   "execution_count": 6,
   "id": "8b503c52-05fb-49bc-8247-0669b24ab1ef",
   "metadata": {},
   "outputs": [],
   "source": [
    "coffees = business.loc[business.categories.str.contains(\"coffee\", case=False).fillna(False)]"
   ]
  },
  {
   "cell_type": "code",
   "execution_count": 7,
   "id": "465cc03a-0f4c-4aab-976e-d69b091f58d0",
   "metadata": {},
   "outputs": [],
   "source": [
    "coffees.set_index(\"business_id\", inplace=True)"
   ]
  },
  {
   "cell_type": "code",
   "execution_count": 8,
   "id": "fce2cc7a-2fd3-4bf4-9dd9-ff03f78a691a",
   "metadata": {},
   "outputs": [],
   "source": [
    "coffee_join_review = coffees.join(tables[\"review.json\"].set_index(\"business_id\"), on=\"business_id\", lsuffix=\"_business\", rsuffix=\"_review\")"
   ]
  },
  {
   "cell_type": "code",
   "execution_count": 9,
   "id": "8a64690d-507a-4e9f-a53c-47cef57c7614",
   "metadata": {},
   "outputs": [],
   "source": [
    "final_table = coffee_join_review.set_index(\"user_id\").join(tables[\"user.json\"].set_index(\"user_id\"), lsuffix=\"_business_or_review\", rsuffix=\"_users\")"
   ]
  },
  {
   "cell_type": "code",
   "execution_count": 10,
   "id": "a628ecc0-4930-4d57-9cf4-890c90084c16",
   "metadata": {},
   "outputs": [
    {
     "data": {
      "text/plain": [
       "(444691, 41)"
      ]
     },
     "execution_count": 10,
     "metadata": {},
     "output_type": "execute_result"
    }
   ],
   "source": [
    "final_table.shape"
   ]
  },
  {
   "cell_type": "code",
   "execution_count": 11,
   "id": "2f765bd2-2bde-4b0f-8bee-9ef03eeeedfc",
   "metadata": {},
   "outputs": [],
   "source": [
    "final_table.reset_index(inplace=True)"
   ]
  },
  {
   "cell_type": "code",
   "execution_count": 12,
   "id": "155d2c4b-16f2-445d-beeb-f60e72e619ec",
   "metadata": {},
   "outputs": [],
   "source": [
    "final_table.to_csv(\"data.csv\", index=False)"
   ]
  },
  {
   "cell_type": "code",
   "execution_count": null,
   "id": "54a1f7e4-84df-4b23-9251-3508c335e494",
   "metadata": {},
   "outputs": [],
   "source": [
    "df = pd.read_csv(\"data.csv\")"
   ]
  },
  {
   "cell_type": "code",
   "execution_count": null,
   "id": "4dee1f3b-dac5-4bea-acce-aad671249950",
   "metadata": {},
   "outputs": [],
   "source": [
    "# !ls -lh data.csv"
   ]
  },
  {
   "cell_type": "markdown",
   "id": "2cc21795-961a-48a1-aa89-e61f67215965",
   "metadata": {},
   "source": [
    "### loading json files as python dict"
   ]
  },
  {
   "cell_type": "code",
   "execution_count": null,
   "id": "7b8436cb-9344-4b91-9949-a69a34b436a1",
   "metadata": {
    "tags": []
   },
   "outputs": [],
   "source": [
    "row_jsons = {}\n",
    "for data in os.listdir(data_path):\n",
    "    if not data.endswith(\".json\"):\n",
    "        continue\n",
    "    row_jsons[data] = []\n",
    "    with open(os.path.join(data_path, data), \"r\") as f:\n",
    "        for line in f:\n",
    "            data.append(json.loads(line))\n",
    "    print(data + \" Done!\")"
   ]
  },
  {
   "cell_type": "code",
   "execution_count": 34,
   "id": "1e362e0b-9691-4917-b93c-eee28cba1dac",
   "metadata": {},
   "outputs": [
    {
     "data": {
      "text/html": [
       "<div>\n",
       "<style scoped>\n",
       "    .dataframe tbody tr th:only-of-type {\n",
       "        vertical-align: middle;\n",
       "    }\n",
       "\n",
       "    .dataframe tbody tr th {\n",
       "        vertical-align: top;\n",
       "    }\n",
       "\n",
       "    .dataframe thead th {\n",
       "        text-align: right;\n",
       "    }\n",
       "</style>\n",
       "<table border=\"1\" class=\"dataframe\">\n",
       "  <thead>\n",
       "    <tr style=\"text-align: right;\">\n",
       "      <th></th>\n",
       "      <th>user_id</th>\n",
       "      <th>name_business_or_review</th>\n",
       "      <th>address</th>\n",
       "      <th>city</th>\n",
       "      <th>state</th>\n",
       "      <th>postal_code</th>\n",
       "      <th>latitude</th>\n",
       "      <th>longitude</th>\n",
       "      <th>stars_business</th>\n",
       "      <th>review_count_business_or_review</th>\n",
       "      <th>...</th>\n",
       "      <th>compliment_more</th>\n",
       "      <th>compliment_profile</th>\n",
       "      <th>compliment_cute</th>\n",
       "      <th>compliment_list</th>\n",
       "      <th>compliment_note</th>\n",
       "      <th>compliment_plain</th>\n",
       "      <th>compliment_cool</th>\n",
       "      <th>compliment_funny</th>\n",
       "      <th>compliment_writer</th>\n",
       "      <th>compliment_photos</th>\n",
       "    </tr>\n",
       "  </thead>\n",
       "  <tbody>\n",
       "    <tr>\n",
       "      <th>0</th>\n",
       "      <td>--13zE3NaRvLSrmfTVnFJA</td>\n",
       "      <td>Happily Ever After</td>\n",
       "      <td>230 Market St</td>\n",
       "      <td>Philadelphia</td>\n",
       "      <td>PA</td>\n",
       "      <td>19106</td>\n",
       "      <td>39.949957</td>\n",
       "      <td>-75.144904</td>\n",
       "      <td>4.0</td>\n",
       "      <td>358</td>\n",
       "      <td>...</td>\n",
       "      <td>0.0</td>\n",
       "      <td>0.0</td>\n",
       "      <td>0.0</td>\n",
       "      <td>0.0</td>\n",
       "      <td>0.0</td>\n",
       "      <td>0.0</td>\n",
       "      <td>0.0</td>\n",
       "      <td>0.0</td>\n",
       "      <td>0.0</td>\n",
       "      <td>0.0</td>\n",
       "    </tr>\n",
       "    <tr>\n",
       "      <th>1</th>\n",
       "      <td>--17Db1K-KujRuN7hY9Z0Q</td>\n",
       "      <td>Spudnuts &amp; Bagels</td>\n",
       "      <td>3629 State St</td>\n",
       "      <td>Santa Barbara</td>\n",
       "      <td>CA</td>\n",
       "      <td>93105</td>\n",
       "      <td>34.440197</td>\n",
       "      <td>-119.741401</td>\n",
       "      <td>4.5</td>\n",
       "      <td>292</td>\n",
       "      <td>...</td>\n",
       "      <td>5.0</td>\n",
       "      <td>5.0</td>\n",
       "      <td>6.0</td>\n",
       "      <td>1.0</td>\n",
       "      <td>64.0</td>\n",
       "      <td>67.0</td>\n",
       "      <td>97.0</td>\n",
       "      <td>97.0</td>\n",
       "      <td>40.0</td>\n",
       "      <td>83.0</td>\n",
       "    </tr>\n",
       "    <tr>\n",
       "      <th>2</th>\n",
       "      <td>--1oZcRo9-QKOtTqREKB6g</td>\n",
       "      <td>Oxford Exchange</td>\n",
       "      <td>420 W Kennedy Blvd</td>\n",
       "      <td>Tampa</td>\n",
       "      <td>FL</td>\n",
       "      <td>33606</td>\n",
       "      <td>27.945114</td>\n",
       "      <td>-82.464621</td>\n",
       "      <td>4.5</td>\n",
       "      <td>1868</td>\n",
       "      <td>...</td>\n",
       "      <td>0.0</td>\n",
       "      <td>0.0</td>\n",
       "      <td>0.0</td>\n",
       "      <td>0.0</td>\n",
       "      <td>1.0</td>\n",
       "      <td>0.0</td>\n",
       "      <td>0.0</td>\n",
       "      <td>0.0</td>\n",
       "      <td>0.0</td>\n",
       "      <td>1.0</td>\n",
       "    </tr>\n",
       "    <tr>\n",
       "      <th>3</th>\n",
       "      <td>--2bpE5vyR-2hAP7sZZ4lA</td>\n",
       "      <td>Oxford Exchange</td>\n",
       "      <td>420 W Kennedy Blvd</td>\n",
       "      <td>Tampa</td>\n",
       "      <td>FL</td>\n",
       "      <td>33606</td>\n",
       "      <td>27.945114</td>\n",
       "      <td>-82.464621</td>\n",
       "      <td>4.5</td>\n",
       "      <td>1868</td>\n",
       "      <td>...</td>\n",
       "      <td>0.0</td>\n",
       "      <td>0.0</td>\n",
       "      <td>0.0</td>\n",
       "      <td>0.0</td>\n",
       "      <td>0.0</td>\n",
       "      <td>0.0</td>\n",
       "      <td>0.0</td>\n",
       "      <td>0.0</td>\n",
       "      <td>0.0</td>\n",
       "      <td>0.0</td>\n",
       "    </tr>\n",
       "    <tr>\n",
       "      <th>4</th>\n",
       "      <td>--3WaS23LcIXtxyFULJHTA</td>\n",
       "      <td>Hoaglin to Go Cafe &amp; Market</td>\n",
       "      <td>448 Massachusetts Ave</td>\n",
       "      <td>Indianapolis</td>\n",
       "      <td>IN</td>\n",
       "      <td>46204</td>\n",
       "      <td>39.773562</td>\n",
       "      <td>-86.151414</td>\n",
       "      <td>3.5</td>\n",
       "      <td>186</td>\n",
       "      <td>...</td>\n",
       "      <td>6.0</td>\n",
       "      <td>0.0</td>\n",
       "      <td>0.0</td>\n",
       "      <td>0.0</td>\n",
       "      <td>6.0</td>\n",
       "      <td>20.0</td>\n",
       "      <td>18.0</td>\n",
       "      <td>18.0</td>\n",
       "      <td>9.0</td>\n",
       "      <td>2.0</td>\n",
       "    </tr>\n",
       "    <tr>\n",
       "      <th>...</th>\n",
       "      <td>...</td>\n",
       "      <td>...</td>\n",
       "      <td>...</td>\n",
       "      <td>...</td>\n",
       "      <td>...</td>\n",
       "      <td>...</td>\n",
       "      <td>...</td>\n",
       "      <td>...</td>\n",
       "      <td>...</td>\n",
       "      <td>...</td>\n",
       "      <td>...</td>\n",
       "      <td>...</td>\n",
       "      <td>...</td>\n",
       "      <td>...</td>\n",
       "      <td>...</td>\n",
       "      <td>...</td>\n",
       "      <td>...</td>\n",
       "      <td>...</td>\n",
       "      <td>...</td>\n",
       "      <td>...</td>\n",
       "      <td>...</td>\n",
       "    </tr>\n",
       "    <tr>\n",
       "      <th>444686</th>\n",
       "      <td>zztkCqqgR6VntYbqio4UTQ</td>\n",
       "      <td>Rooster - South Grand</td>\n",
       "      <td>3150 S Grand</td>\n",
       "      <td>Saint Louis</td>\n",
       "      <td>MO</td>\n",
       "      <td>63118</td>\n",
       "      <td>38.601144</td>\n",
       "      <td>-90.242168</td>\n",
       "      <td>3.5</td>\n",
       "      <td>748</td>\n",
       "      <td>...</td>\n",
       "      <td>0.0</td>\n",
       "      <td>0.0</td>\n",
       "      <td>0.0</td>\n",
       "      <td>0.0</td>\n",
       "      <td>2.0</td>\n",
       "      <td>0.0</td>\n",
       "      <td>0.0</td>\n",
       "      <td>0.0</td>\n",
       "      <td>0.0</td>\n",
       "      <td>0.0</td>\n",
       "    </tr>\n",
       "    <tr>\n",
       "      <th>444687</th>\n",
       "      <td>zztkCqqgR6VntYbqio4UTQ</td>\n",
       "      <td>Soulard Coffee Garden</td>\n",
       "      <td>910 Geyer Ave</td>\n",
       "      <td>Saint Louis</td>\n",
       "      <td>MO</td>\n",
       "      <td>63104</td>\n",
       "      <td>38.608458</td>\n",
       "      <td>-90.205170</td>\n",
       "      <td>4.0</td>\n",
       "      <td>397</td>\n",
       "      <td>...</td>\n",
       "      <td>0.0</td>\n",
       "      <td>0.0</td>\n",
       "      <td>0.0</td>\n",
       "      <td>0.0</td>\n",
       "      <td>2.0</td>\n",
       "      <td>0.0</td>\n",
       "      <td>0.0</td>\n",
       "      <td>0.0</td>\n",
       "      <td>0.0</td>\n",
       "      <td>0.0</td>\n",
       "    </tr>\n",
       "    <tr>\n",
       "      <th>444688</th>\n",
       "      <td>zztkCqqgR6VntYbqio4UTQ</td>\n",
       "      <td>Park Avenue Coffee - The Hill</td>\n",
       "      <td>5105 Columbia Ave</td>\n",
       "      <td>Saint Louis</td>\n",
       "      <td>MO</td>\n",
       "      <td>63139</td>\n",
       "      <td>38.610889</td>\n",
       "      <td>-90.272589</td>\n",
       "      <td>4.5</td>\n",
       "      <td>124</td>\n",
       "      <td>...</td>\n",
       "      <td>0.0</td>\n",
       "      <td>0.0</td>\n",
       "      <td>0.0</td>\n",
       "      <td>0.0</td>\n",
       "      <td>2.0</td>\n",
       "      <td>0.0</td>\n",
       "      <td>0.0</td>\n",
       "      <td>0.0</td>\n",
       "      <td>0.0</td>\n",
       "      <td>0.0</td>\n",
       "    </tr>\n",
       "    <tr>\n",
       "      <th>444689</th>\n",
       "      <td>zzuIXWg1WRhQXheMIdGZ5w</td>\n",
       "      <td>CC's Coffee House</td>\n",
       "      <td>2917 Magazine St, Ste 104</td>\n",
       "      <td>New Orleans</td>\n",
       "      <td>LA</td>\n",
       "      <td>70115</td>\n",
       "      <td>29.925489</td>\n",
       "      <td>-90.084332</td>\n",
       "      <td>4.0</td>\n",
       "      <td>67</td>\n",
       "      <td>...</td>\n",
       "      <td>0.0</td>\n",
       "      <td>0.0</td>\n",
       "      <td>0.0</td>\n",
       "      <td>0.0</td>\n",
       "      <td>0.0</td>\n",
       "      <td>0.0</td>\n",
       "      <td>1.0</td>\n",
       "      <td>1.0</td>\n",
       "      <td>1.0</td>\n",
       "      <td>0.0</td>\n",
       "    </tr>\n",
       "    <tr>\n",
       "      <th>444690</th>\n",
       "      <td>zzz-M4QvkEpUWWPL9RTzLA</td>\n",
       "      <td>Capital Coffee</td>\n",
       "      <td>162 Belle Forest Cir</td>\n",
       "      <td>Bellevue</td>\n",
       "      <td>TN</td>\n",
       "      <td>37221</td>\n",
       "      <td>36.076638</td>\n",
       "      <td>-86.921529</td>\n",
       "      <td>3.5</td>\n",
       "      <td>63</td>\n",
       "      <td>...</td>\n",
       "      <td>0.0</td>\n",
       "      <td>0.0</td>\n",
       "      <td>0.0</td>\n",
       "      <td>0.0</td>\n",
       "      <td>1.0</td>\n",
       "      <td>1.0</td>\n",
       "      <td>0.0</td>\n",
       "      <td>0.0</td>\n",
       "      <td>0.0</td>\n",
       "      <td>0.0</td>\n",
       "    </tr>\n",
       "  </tbody>\n",
       "</table>\n",
       "<p>444691 rows × 42 columns</p>\n",
       "</div>"
      ],
      "text/plain": [
       "                       user_id        name_business_or_review  \\\n",
       "0       --13zE3NaRvLSrmfTVnFJA             Happily Ever After   \n",
       "1       --17Db1K-KujRuN7hY9Z0Q              Spudnuts & Bagels   \n",
       "2       --1oZcRo9-QKOtTqREKB6g                Oxford Exchange   \n",
       "3       --2bpE5vyR-2hAP7sZZ4lA                Oxford Exchange   \n",
       "4       --3WaS23LcIXtxyFULJHTA    Hoaglin to Go Cafe & Market   \n",
       "...                        ...                            ...   \n",
       "444686  zztkCqqgR6VntYbqio4UTQ          Rooster - South Grand   \n",
       "444687  zztkCqqgR6VntYbqio4UTQ          Soulard Coffee Garden   \n",
       "444688  zztkCqqgR6VntYbqio4UTQ  Park Avenue Coffee - The Hill   \n",
       "444689  zzuIXWg1WRhQXheMIdGZ5w              CC's Coffee House   \n",
       "444690  zzz-M4QvkEpUWWPL9RTzLA                 Capital Coffee   \n",
       "\n",
       "                          address           city state postal_code   latitude  \\\n",
       "0                   230 Market St   Philadelphia    PA       19106  39.949957   \n",
       "1                   3629 State St  Santa Barbara    CA       93105  34.440197   \n",
       "2              420 W Kennedy Blvd          Tampa    FL       33606  27.945114   \n",
       "3              420 W Kennedy Blvd          Tampa    FL       33606  27.945114   \n",
       "4           448 Massachusetts Ave   Indianapolis    IN       46204  39.773562   \n",
       "...                           ...            ...   ...         ...        ...   \n",
       "444686               3150 S Grand    Saint Louis    MO       63118  38.601144   \n",
       "444687              910 Geyer Ave    Saint Louis    MO       63104  38.608458   \n",
       "444688          5105 Columbia Ave    Saint Louis    MO       63139  38.610889   \n",
       "444689  2917 Magazine St, Ste 104    New Orleans    LA       70115  29.925489   \n",
       "444690       162 Belle Forest Cir       Bellevue    TN       37221  36.076638   \n",
       "\n",
       "         longitude  stars_business  review_count_business_or_review  ...  \\\n",
       "0       -75.144904             4.0                              358  ...   \n",
       "1      -119.741401             4.5                              292  ...   \n",
       "2       -82.464621             4.5                             1868  ...   \n",
       "3       -82.464621             4.5                             1868  ...   \n",
       "4       -86.151414             3.5                              186  ...   \n",
       "...            ...             ...                              ...  ...   \n",
       "444686  -90.242168             3.5                              748  ...   \n",
       "444687  -90.205170             4.0                              397  ...   \n",
       "444688  -90.272589             4.5                              124  ...   \n",
       "444689  -90.084332             4.0                               67  ...   \n",
       "444690  -86.921529             3.5                               63  ...   \n",
       "\n",
       "        compliment_more compliment_profile compliment_cute compliment_list  \\\n",
       "0                   0.0                0.0             0.0             0.0   \n",
       "1                   5.0                5.0             6.0             1.0   \n",
       "2                   0.0                0.0             0.0             0.0   \n",
       "3                   0.0                0.0             0.0             0.0   \n",
       "4                   6.0                0.0             0.0             0.0   \n",
       "...                 ...                ...             ...             ...   \n",
       "444686              0.0                0.0             0.0             0.0   \n",
       "444687              0.0                0.0             0.0             0.0   \n",
       "444688              0.0                0.0             0.0             0.0   \n",
       "444689              0.0                0.0             0.0             0.0   \n",
       "444690              0.0                0.0             0.0             0.0   \n",
       "\n",
       "       compliment_note  compliment_plain  compliment_cool  compliment_funny  \\\n",
       "0                  0.0               0.0              0.0               0.0   \n",
       "1                 64.0              67.0             97.0              97.0   \n",
       "2                  1.0               0.0              0.0               0.0   \n",
       "3                  0.0               0.0              0.0               0.0   \n",
       "4                  6.0              20.0             18.0              18.0   \n",
       "...                ...               ...              ...               ...   \n",
       "444686             2.0               0.0              0.0               0.0   \n",
       "444687             2.0               0.0              0.0               0.0   \n",
       "444688             2.0               0.0              0.0               0.0   \n",
       "444689             0.0               0.0              1.0               1.0   \n",
       "444690             1.0               1.0              0.0               0.0   \n",
       "\n",
       "        compliment_writer compliment_photos  \n",
       "0                     0.0               0.0  \n",
       "1                    40.0              83.0  \n",
       "2                     0.0               1.0  \n",
       "3                     0.0               0.0  \n",
       "4                     9.0               2.0  \n",
       "...                   ...               ...  \n",
       "444686                0.0               0.0  \n",
       "444687                0.0               0.0  \n",
       "444688                0.0               0.0  \n",
       "444689                1.0               0.0  \n",
       "444690                0.0               0.0  \n",
       "\n",
       "[444691 rows x 42 columns]"
      ]
     },
     "execution_count": 34,
     "metadata": {},
     "output_type": "execute_result"
    }
   ],
   "source": [
    "final_table"
   ]
  },
  {
   "cell_type": "code",
   "execution_count": 63,
   "id": "53127d45",
   "metadata": {},
   "outputs": [
    {
     "data": {
      "text/plain": [
       "3664"
      ]
     },
     "execution_count": 63,
     "metadata": {},
     "output_type": "execute_result"
    }
   ],
   "source": []
  },
  {
   "cell_type": "code",
   "execution_count": 39,
   "id": "ff4f0e05",
   "metadata": {},
   "outputs": [
    {
     "data": {
      "text/plain": [
       "0        2017-06-13 13:39:08\n",
       "1        2017-10-01 20:24:24\n",
       "2        2017-05-10 21:41:49\n",
       "3        2015-12-16 21:52:28\n",
       "4        2011-07-14 02:49:03\n",
       "                 ...        \n",
       "444686   2018-05-25 07:16:32\n",
       "444687   2017-08-14 06:12:30\n",
       "444688   2018-09-11 19:58:52\n",
       "444689   2009-08-25 02:27:41\n",
       "444690   2018-09-26 17:59:17\n",
       "Name: date, Length: 444691, dtype: datetime64[ns]"
      ]
     },
     "execution_count": 39,
     "metadata": {},
     "output_type": "execute_result"
    }
   ],
   "source": [
    "smaller_table.to_csv(\"smaller_data.csv\", index=False)"
   ]
  },
  {
   "cell_type": "code",
   "execution_count": 91,
   "id": "b4007b44",
   "metadata": {},
   "outputs": [
    {
     "data": {
      "text/plain": [
       "{'NoiseLevel': \"u'quiet'\",\n",
       " 'RestaurantsGoodForGroups': 'True',\n",
       " 'RestaurantsTakeOut': 'True',\n",
       " 'BusinessParking': \"{'garage': False, 'street': False, 'validated': False, 'lot': False, 'valet': False}\",\n",
       " 'BusinessAcceptsCreditCards': 'True',\n",
       " 'RestaurantsPriceRange2': '1',\n",
       " 'GoodForKids': 'True',\n",
       " 'HasTV': 'False',\n",
       " 'RestaurantsReservations': 'False',\n",
       " 'Ambience': \"{'romantic': False, 'intimate': False, 'touristy': False, 'hipster': False, 'divey': False, 'classy': False, 'trendy': False, 'upscale': False, 'casual': False}\",\n",
       " 'BikeParking': 'True',\n",
       " 'RestaurantsAttire': \"u'casual'\",\n",
       " 'Alcohol': \"u'none'\",\n",
       " 'OutdoorSeating': 'False',\n",
       " 'Caters': 'False',\n",
       " 'GoodForMeal': \"{'dessert': False, 'latenight': False, 'lunch': False, 'dinner': False, 'brunch': False, 'breakfast': False}\",\n",
       " 'WiFi': \"u'free'\",\n",
       " 'RestaurantsDelivery': 'True',\n",
       " 'DriveThru': 'True'}"
      ]
     },
     "execution_count": 91,
     "metadata": {},
     "output_type": "execute_result"
    }
   ],
   "source": [
    "smaller_table.loc[smaller_table['name_business_or_review'] == \"McDonald's\"]['attributes'][20]"
   ]
  },
  {
   "cell_type": "markdown",
   "id": "9247bdd9",
   "metadata": {},
   "source": [
    "# Checking out the data "
   ]
  },
  {
   "cell_type": "code",
   "execution_count": 84,
   "id": "27c34ef7",
   "metadata": {},
   "outputs": [
    {
     "data": {
      "text/plain": [
       "Starbucks                  21575\n",
       "McDonald's                 17953\n",
       "Dunkin'                    10312\n",
       "Reading Terminal Market     5778\n",
       "Wawa                        4297\n",
       "                           ...  \n",
       "Break Time Cafe                5\n",
       "Revel Kitchen                  5\n",
       "Rivster's on High              5\n",
       "Darnel’s Cakes                 5\n",
       "Tree view cafe                 5\n",
       "Name: name_business_or_review, Length: 3664, dtype: int64"
      ]
     },
     "execution_count": 84,
     "metadata": {},
     "output_type": "execute_result"
    }
   ],
   "source": [
    "smaller_table['name_business_or_review'].value_counts()"
   ]
  },
  {
   "cell_type": "code",
   "execution_count": 81,
   "id": "ad3671d2",
   "metadata": {},
   "outputs": [],
   "source": [
    "filtered_table = smaller_table"
   ]
  },
  {
   "cell_type": "code",
   "execution_count": 92,
   "id": "e99d076c",
   "metadata": {},
   "outputs": [],
   "source": [
    "filtered_table = filtered_table.loc[filtered_table['name_business_or_review'] != \"McDonald's\"]\n",
    "filtered_table = filtered_table.loc[filtered_table['name_business_or_review'] != \"Wawa\"]"
   ]
  },
  {
   "cell_type": "code",
   "execution_count": 93,
   "id": "f21ac9bc",
   "metadata": {},
   "outputs": [
    {
     "data": {
      "text/plain": [
       "Starbucks                       21575\n",
       "Dunkin'                         10312\n",
       "Reading Terminal Market          5778\n",
       "Federal Donuts                   2870\n",
       "Cafe Beignet on Royal Street     2722\n",
       "                                ...  \n",
       "The Tea Cozy                        5\n",
       "Sunrise Cafe And Bake Shop          5\n",
       "Catfish Coffee Roasters             5\n",
       "Darnel’s Cakes                      5\n",
       "Palo De Azucar Cafe                 5\n",
       "Name: name_business_or_review, Length: 3662, dtype: int64"
      ]
     },
     "execution_count": 93,
     "metadata": {},
     "output_type": "execute_result"
    }
   ],
   "source": [
    "filtered_table['name_business_or_review'].value_counts()"
   ]
  },
  {
   "cell_type": "code",
   "execution_count": 94,
   "id": "b0e4a3e6",
   "metadata": {},
   "outputs": [],
   "source": [
    "filtered_table.to_csv(\"filtered_smaller_data.csv\", index=False)"
   ]
  },
  {
   "cell_type": "code",
   "execution_count": 96,
   "id": "7dd519c6",
   "metadata": {},
   "outputs": [],
   "source": [
    "test_filter = smaller_table.loc[np.logical_or(smaller_table[\"categories\"] == \"Food, Coffee & Tea\", smaller_table[\"categories\"] == \"Coffee & Tea, Food\")]"
   ]
  },
  {
   "cell_type": "code",
   "execution_count": 98,
   "id": "9d4b7308",
   "metadata": {},
   "outputs": [
    {
     "data": {
      "text/plain": [
       "Starbucks                    15491\n",
       "Handlebar Coffee Roasters     1065\n",
       "Crema Coffee Roasters         1017\n",
       "La Colombe Coffee              663\n",
       "Addiction                      544\n",
       "                             ...  \n",
       "Cup o' Jo                        5\n",
       "Magazine Perks                   5\n",
       "Cargo & James Tea                5\n",
       "Kickstart Cafe                   5\n",
       "Community Coffee Company         5\n",
       "Name: name_business_or_review, Length: 349, dtype: int64"
      ]
     },
     "execution_count": 98,
     "metadata": {},
     "output_type": "execute_result"
    }
   ],
   "source": [
    "test_filter['name_business_or_review'].value_counts()"
   ]
  },
  {
   "cell_type": "code",
   "execution_count": 99,
   "id": "1ed9fabf",
   "metadata": {},
   "outputs": [],
   "source": [
    "test_filter.to_csv(\"best_filtered_smaller_data.csv\", index=False)"
   ]
  }
 ],
 "metadata": {
  "kernelspec": {
   "display_name": "Python 3 (ipykernel)",
   "language": "python",
   "name": "python3"
  },
  "language_info": {
   "codemirror_mode": {
    "name": "ipython",
    "version": 3
   },
   "file_extension": ".py",
   "mimetype": "text/x-python",
   "name": "python",
   "nbconvert_exporter": "python",
   "pygments_lexer": "ipython3",
   "version": "3.10.2"
  }
 },
 "nbformat": 4,
 "nbformat_minor": 5
}
